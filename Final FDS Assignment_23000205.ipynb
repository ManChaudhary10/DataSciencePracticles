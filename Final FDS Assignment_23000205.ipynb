{
 "cells": [
  {
   "cell_type": "code",
   "execution_count": 5,
   "id": "6c1a874d-4984-4c39-b020-7b10324551c2",
   "metadata": {},
   "outputs": [
    {
     "data": {
      "text/html": [
       "<div>\n",
       "<style scoped>\n",
       "    .dataframe tbody tr th:only-of-type {\n",
       "        vertical-align: middle;\n",
       "    }\n",
       "\n",
       "    .dataframe tbody tr th {\n",
       "        vertical-align: top;\n",
       "    }\n",
       "\n",
       "    .dataframe thead tr th {\n",
       "        text-align: left;\n",
       "    }\n",
       "\n",
       "    .dataframe thead tr:last-of-type th {\n",
       "        text-align: right;\n",
       "    }\n",
       "</style>\n",
       "<table border=\"1\" class=\"dataframe\">\n",
       "  <thead>\n",
       "    <tr>\n",
       "      <th></th>\n",
       "      <th></th>\n",
       "      <th colspan=\"2\" halign=\"left\">Sales</th>\n",
       "      <th colspan=\"2\" halign=\"left\">Expenses</th>\n",
       "    </tr>\n",
       "    <tr>\n",
       "      <th></th>\n",
       "      <th></th>\n",
       "      <th>Online</th>\n",
       "      <th>In-Store</th>\n",
       "      <th>Online</th>\n",
       "      <th>In-Store</th>\n",
       "    </tr>\n",
       "    <tr>\n",
       "      <th>Year</th>\n",
       "      <th>Quarter</th>\n",
       "      <th></th>\n",
       "      <th></th>\n",
       "      <th></th>\n",
       "      <th></th>\n",
       "    </tr>\n",
       "  </thead>\n",
       "  <tbody>\n",
       "    <tr>\n",
       "      <th rowspan=\"4\" valign=\"top\">2021</th>\n",
       "      <th>Q1</th>\n",
       "      <td>12000</td>\n",
       "      <td>30000</td>\n",
       "      <td>5000</td>\n",
       "      <td>10000</td>\n",
       "    </tr>\n",
       "    <tr>\n",
       "      <th>Q2</th>\n",
       "      <td>13000</td>\n",
       "      <td>32000</td>\n",
       "      <td>5500</td>\n",
       "      <td>10500</td>\n",
       "    </tr>\n",
       "    <tr>\n",
       "      <th>Q3</th>\n",
       "      <td>12500</td>\n",
       "      <td>31000</td>\n",
       "      <td>5300</td>\n",
       "      <td>10200</td>\n",
       "    </tr>\n",
       "    <tr>\n",
       "      <th>Q4</th>\n",
       "      <td>14000</td>\n",
       "      <td>34000</td>\n",
       "      <td>5800</td>\n",
       "      <td>11000</td>\n",
       "    </tr>\n",
       "    <tr>\n",
       "      <th rowspan=\"4\" valign=\"top\">2022</th>\n",
       "      <th>Q1</th>\n",
       "      <td>15000</td>\n",
       "      <td>36000</td>\n",
       "      <td>6000</td>\n",
       "      <td>11500</td>\n",
       "    </tr>\n",
       "    <tr>\n",
       "      <th>Q2</th>\n",
       "      <td>15500</td>\n",
       "      <td>37000</td>\n",
       "      <td>6200</td>\n",
       "      <td>11800</td>\n",
       "    </tr>\n",
       "    <tr>\n",
       "      <th>Q3</th>\n",
       "      <td>16000</td>\n",
       "      <td>38000</td>\n",
       "      <td>6400</td>\n",
       "      <td>12000</td>\n",
       "    </tr>\n",
       "    <tr>\n",
       "      <th>Q4</th>\n",
       "      <td>16500</td>\n",
       "      <td>39000</td>\n",
       "      <td>6600</td>\n",
       "      <td>12500</td>\n",
       "    </tr>\n",
       "  </tbody>\n",
       "</table>\n",
       "</div>"
      ],
      "text/plain": [
       "              Sales          Expenses         \n",
       "             Online In-Store   Online In-Store\n",
       "Year Quarter                                  \n",
       "2021 Q1       12000    30000     5000    10000\n",
       "     Q2       13000    32000     5500    10500\n",
       "     Q3       12500    31000     5300    10200\n",
       "     Q4       14000    34000     5800    11000\n",
       "2022 Q1       15000    36000     6000    11500\n",
       "     Q2       15500    37000     6200    11800\n",
       "     Q3       16000    38000     6400    12000\n",
       "     Q4       16500    39000     6600    12500"
      ]
     },
     "execution_count": 5,
     "metadata": {},
     "output_type": "execute_result"
    }
   ],
   "source": [
    "#QUE-1\n",
    "import pandas as pd\n",
    "\n",
    "data = {\n",
    "    ('Sales', 'Online'): [12000, 13000, 12500, 14000, 15000, 15500, 16000, 16500],\n",
    "    ('Sales', 'In-Store'): [30000, 32000, 31000, 34000, 36000, 37000, 38000, 39000],\n",
    "    ('Expenses', 'Online'): [5000, 5500, 5300, 5800, 6000, 6200, 6400, 6600],\n",
    "    ('Expenses', 'In-Store'): [10000, 10500, 10200, 11000, 11500, 11800, 12000, 12500]\n",
    "}\n",
    "\n",
    "index = pd.MultiIndex.from_product([[2021, 2022], ['Q1', 'Q2', 'Q3', 'Q4']], names=[\"Year\", \"Quarter\"])\n",
    "\n",
    "financial_data = pd.DataFrame(data, index=index)\n",
    "\n",
    "financial_data\n",
    "\n",
    "\n",
    "\n"
   ]
  },
  {
   "cell_type": "code",
   "execution_count": 9,
   "id": "b2cdb349-0cac-438d-8a8b-3cc1d86b37b2",
   "metadata": {},
   "outputs": [
    {
     "data": {
      "text/plain": [
       "15000"
      ]
     },
     "execution_count": 9,
     "metadata": {},
     "output_type": "execute_result"
    }
   ],
   "source": [
    "#Answer A\n",
    "online_sales_q1_2022 = financial_data.loc[(2022, 'Q1'), ('Sales', 'Online')]\n",
    "online_sales_q1_2022\n",
    "\n"
   ]
  },
  {
   "cell_type": "code",
   "execution_count": 11,
   "id": "31808338-2339-4fdb-8aa4-f78c6eb932ff",
   "metadata": {},
   "outputs": [
    {
     "data": {
      "text/plain": [
       "10200"
      ]
     },
     "execution_count": 11,
     "metadata": {},
     "output_type": "execute_result"
    }
   ],
   "source": [
    "#Answer B\n",
    "in_store_expenses_q3_2021 = financial_data.loc[(2021, 'Q3'), ('Expenses', 'In-Store')]\n",
    "in_store_expenses_q3_2021"
   ]
  },
  {
   "cell_type": "code",
   "execution_count": 15,
   "id": "df94cc6c-6ef7-477e-91b9-19d95817a71b",
   "metadata": {},
   "outputs": [
    {
     "data": {
      "text/plain": [
       "48000"
      ]
     },
     "execution_count": 15,
     "metadata": {},
     "output_type": "execute_result"
    }
   ],
   "source": [
    "#Answer C\n",
    "total_sales_q4_2021 = financial_data.loc[(2021, 'Q4'), ('Sales', 'Online')] + financial_data.loc[(2021, 'Q4'), ('Sales', 'In-Store')]\n",
    "total_sales_q4_2021\n",
    "\n"
   ]
  },
  {
   "cell_type": "code",
   "execution_count": 17,
   "id": "441c6448-73f4-48ad-b728-30163d10a125",
   "metadata": {},
   "outputs": [
    {
     "data": {
      "text/plain": [
       "25200"
      ]
     },
     "execution_count": 17,
     "metadata": {},
     "output_type": "execute_result"
    }
   ],
   "source": [
    "#Answer D\n",
    "online_expenses_2022 = financial_data.loc[2022, ('Expenses', 'Online')].sum()\n",
    "online_expenses_2022"
   ]
  },
  {
   "cell_type": "code",
   "execution_count": 19,
   "id": "d2f2c2e1-744d-4731-8c29-83f173128391",
   "metadata": {},
   "outputs": [
    {
     "data": {
      "text/plain": [
       "Online      13000\n",
       "In-Store    32000\n",
       "Name: (2021, Q2), dtype: int64"
      ]
     },
     "execution_count": 19,
     "metadata": {},
     "output_type": "execute_result"
    }
   ],
   "source": [
    "#Answer E\n",
    "sales_q2_2021 = financial_data.loc[(2021, 'Q2'), 'Sales']\n",
    "sales_q2_2021"
   ]
  },
  {
   "cell_type": "code",
   "execution_count": 23,
   "id": "e14a80f6-02fb-4153-9699-8287ef09c74e",
   "metadata": {},
   "outputs": [
    {
     "data": {
      "text/plain": [
       "12500"
      ]
     },
     "execution_count": 23,
     "metadata": {},
     "output_type": "execute_result"
    }
   ],
   "source": [
    "#Answer F\n",
    "max_expense_2022 = financial_data.loc[2022, 'Expenses'].max().max()\n",
    "max_expense_2022"
   ]
  },
  {
   "cell_type": "code",
   "execution_count": 27,
   "id": "52acc5b8-dad7-48d9-acd4-c70a4e0db1a8",
   "metadata": {},
   "outputs": [
    {
     "data": {
      "text/plain": [
       "Store    Product         \n",
       "Store A  Product X  Sales    100\n",
       "Store B  Product X  Sales    150\n",
       "Store A  Product Y  Sales    200\n",
       "Store B  Product Y  Sales    250\n",
       "dtype: int64"
      ]
     },
     "execution_count": 27,
     "metadata": {},
     "output_type": "execute_result"
    }
   ],
   "source": [
    "#QUE-2\n",
    "\n",
    "store_data = {\n",
    "    'Store': ['Store A', 'Store B', 'Store A', 'Store B'],\n",
    "    'Product': ['Product X', 'Product X', 'Product Y', 'Product Y'],\n",
    "    'Sales': [100, 150, 200, 250]\n",
    "}\n",
    "df_store_product_sales = pd.DataFrame(store_data)\n",
    "stacked_df = df_store_product_sales.set_index(['Store', 'Product']).stack()\n",
    "stacked_df"
   ]
  },
  {
   "cell_type": "code",
   "execution_count": 29,
   "id": "30f48692-3606-41f2-855d-1c4367040d7d",
   "metadata": {},
   "outputs": [
    {
     "data": {
      "text/html": [
       "<div>\n",
       "<style scoped>\n",
       "    .dataframe tbody tr th:only-of-type {\n",
       "        vertical-align: middle;\n",
       "    }\n",
       "\n",
       "    .dataframe tbody tr th {\n",
       "        vertical-align: top;\n",
       "    }\n",
       "\n",
       "    .dataframe thead th {\n",
       "        text-align: right;\n",
       "    }\n",
       "</style>\n",
       "<table border=\"1\" class=\"dataframe\">\n",
       "  <thead>\n",
       "    <tr style=\"text-align: right;\">\n",
       "      <th>Store</th>\n",
       "      <th>Store A</th>\n",
       "      <th>Store B</th>\n",
       "    </tr>\n",
       "    <tr>\n",
       "      <th>Product</th>\n",
       "      <th></th>\n",
       "      <th></th>\n",
       "    </tr>\n",
       "  </thead>\n",
       "  <tbody>\n",
       "    <tr>\n",
       "      <th>Product X</th>\n",
       "      <td>100</td>\n",
       "      <td>150</td>\n",
       "    </tr>\n",
       "    <tr>\n",
       "      <th>Product Y</th>\n",
       "      <td>200</td>\n",
       "      <td>250</td>\n",
       "    </tr>\n",
       "  </tbody>\n",
       "</table>\n",
       "</div>"
      ],
      "text/plain": [
       "Store      Store A  Store B\n",
       "Product                    \n",
       "Product X      100      150\n",
       "Product Y      200      250"
      ]
     },
     "execution_count": 29,
     "metadata": {},
     "output_type": "execute_result"
    }
   ],
   "source": [
    "#QUE-3\n",
    "unstacked_sales_by_store = df_store_product_sales.set_index(['Store', 'Product']).unstack(level=0)['Sales']\n",
    "unstacked_sales_by_store\n"
   ]
  },
  {
   "cell_type": "code",
   "execution_count": 33,
   "id": "0bb003a1-82d6-44da-8514-056c3217150a",
   "metadata": {},
   "outputs": [
    {
     "data": {
      "text/html": [
       "<div>\n",
       "<style scoped>\n",
       "    .dataframe tbody tr th:only-of-type {\n",
       "        vertical-align: middle;\n",
       "    }\n",
       "\n",
       "    .dataframe tbody tr th {\n",
       "        vertical-align: top;\n",
       "    }\n",
       "\n",
       "    .dataframe thead th {\n",
       "        text-align: right;\n",
       "    }\n",
       "</style>\n",
       "<table border=\"1\" class=\"dataframe\">\n",
       "  <thead>\n",
       "    <tr style=\"text-align: right;\">\n",
       "      <th></th>\n",
       "      <th></th>\n",
       "      <th>Employee Name</th>\n",
       "    </tr>\n",
       "    <tr>\n",
       "      <th>Department</th>\n",
       "      <th>Role</th>\n",
       "      <th></th>\n",
       "    </tr>\n",
       "  </thead>\n",
       "  <tbody>\n",
       "    <tr>\n",
       "      <th rowspan=\"2\" valign=\"top\">Sales</th>\n",
       "      <th>Manager</th>\n",
       "      <td>Alice</td>\n",
       "    </tr>\n",
       "    <tr>\n",
       "      <th>Executive</th>\n",
       "      <td>Bob</td>\n",
       "    </tr>\n",
       "    <tr>\n",
       "      <th rowspan=\"2\" valign=\"top\">Marketing</th>\n",
       "      <th>Manager</th>\n",
       "      <td>Charlie</td>\n",
       "    </tr>\n",
       "    <tr>\n",
       "      <th>Executive</th>\n",
       "      <td>David</td>\n",
       "    </tr>\n",
       "    <tr>\n",
       "      <th rowspan=\"2\" valign=\"top\">HR</th>\n",
       "      <th>Manager</th>\n",
       "      <td>Eva</td>\n",
       "    </tr>\n",
       "    <tr>\n",
       "      <th>Executive</th>\n",
       "      <td>Frank</td>\n",
       "    </tr>\n",
       "  </tbody>\n",
       "</table>\n",
       "</div>"
      ],
      "text/plain": [
       "                     Employee Name\n",
       "Department Role                   \n",
       "Sales      Manager           Alice\n",
       "           Executive           Bob\n",
       "Marketing  Manager         Charlie\n",
       "           Executive         David\n",
       "HR         Manager             Eva\n",
       "           Executive         Frank"
      ]
     },
     "execution_count": 33,
     "metadata": {},
     "output_type": "execute_result"
    }
   ],
   "source": [
    "#QUE-4\n",
    "employee_data = {\n",
    "    'Department': ['Sales', 'Sales', 'Marketing', 'Marketing', 'HR', 'HR'],\n",
    "    'Role': ['Manager', 'Executive', 'Manager', 'Executive', 'Manager', 'Executive'],\n",
    "    'Employee Name': ['Alice', 'Bob', 'Charlie', 'David', 'Eva', 'Frank']\n",
    "}\n",
    "df_employee = pd.DataFrame(employee_data).set_index(['Department', 'Role'])\n",
    "df_employee"
   ]
  },
  {
   "cell_type": "code",
   "execution_count": 35,
   "id": "17349c29-a937-428f-8652-7d04739953c1",
   "metadata": {},
   "outputs": [
    {
     "data": {
      "text/html": [
       "<div>\n",
       "<style scoped>\n",
       "    .dataframe tbody tr th:only-of-type {\n",
       "        vertical-align: middle;\n",
       "    }\n",
       "\n",
       "    .dataframe tbody tr th {\n",
       "        vertical-align: top;\n",
       "    }\n",
       "\n",
       "    .dataframe thead th {\n",
       "        text-align: right;\n",
       "    }\n",
       "</style>\n",
       "<table border=\"1\" class=\"dataframe\">\n",
       "  <thead>\n",
       "    <tr style=\"text-align: right;\">\n",
       "      <th></th>\n",
       "      <th>Employee Name</th>\n",
       "    </tr>\n",
       "    <tr>\n",
       "      <th>Role</th>\n",
       "      <th></th>\n",
       "    </tr>\n",
       "  </thead>\n",
       "  <tbody>\n",
       "    <tr>\n",
       "      <th>Manager</th>\n",
       "      <td>Charlie</td>\n",
       "    </tr>\n",
       "    <tr>\n",
       "      <th>Executive</th>\n",
       "      <td>David</td>\n",
       "    </tr>\n",
       "  </tbody>\n",
       "</table>\n",
       "</div>"
      ],
      "text/plain": [
       "          Employee Name\n",
       "Role                   \n",
       "Manager         Charlie\n",
       "Executive         David"
      ]
     },
     "execution_count": 35,
     "metadata": {},
     "output_type": "execute_result"
    }
   ],
   "source": [
    "#QUE-5\n",
    "employees_in_marketing = df_employee.loc['Marketing']\n",
    "employees_in_marketing"
   ]
  },
  {
   "cell_type": "code",
   "execution_count": 37,
   "id": "692c39ec-e598-4dc0-834d-3b18a8cedd81",
   "metadata": {},
   "outputs": [
    {
     "data": {
      "text/html": [
       "<div>\n",
       "<style scoped>\n",
       "    .dataframe tbody tr th:only-of-type {\n",
       "        vertical-align: middle;\n",
       "    }\n",
       "\n",
       "    .dataframe tbody tr th {\n",
       "        vertical-align: top;\n",
       "    }\n",
       "\n",
       "    .dataframe thead th {\n",
       "        text-align: right;\n",
       "    }\n",
       "</style>\n",
       "<table border=\"1\" class=\"dataframe\">\n",
       "  <thead>\n",
       "    <tr style=\"text-align: right;\">\n",
       "      <th></th>\n",
       "      <th>Student</th>\n",
       "      <th>Subject</th>\n",
       "      <th>Grade</th>\n",
       "    </tr>\n",
       "  </thead>\n",
       "  <tbody>\n",
       "    <tr>\n",
       "      <th>3</th>\n",
       "      <td>Mia</td>\n",
       "      <td>English</td>\n",
       "      <td>88</td>\n",
       "    </tr>\n",
       "    <tr>\n",
       "      <th>2</th>\n",
       "      <td>Alex</td>\n",
       "      <td>Math</td>\n",
       "      <td>75</td>\n",
       "    </tr>\n",
       "    <tr>\n",
       "      <th>0</th>\n",
       "      <td>John</td>\n",
       "      <td>Math</td>\n",
       "      <td>85</td>\n",
       "    </tr>\n",
       "    <tr>\n",
       "      <th>1</th>\n",
       "      <td>Emily</td>\n",
       "      <td>Science</td>\n",
       "      <td>90</td>\n",
       "    </tr>\n",
       "    <tr>\n",
       "      <th>4</th>\n",
       "      <td>Liam</td>\n",
       "      <td>Science</td>\n",
       "      <td>92</td>\n",
       "    </tr>\n",
       "  </tbody>\n",
       "</table>\n",
       "</div>"
      ],
      "text/plain": [
       "  Student  Subject  Grade\n",
       "3     Mia  English     88\n",
       "2    Alex     Math     75\n",
       "0    John     Math     85\n",
       "1   Emily  Science     90\n",
       "4    Liam  Science     92"
      ]
     },
     "execution_count": 37,
     "metadata": {},
     "output_type": "execute_result"
    }
   ],
   "source": [
    "#QUE-6\n",
    "student_grades_data = {\n",
    "    'Student': ['John', 'Emily', 'Alex', 'Mia', 'Liam'],\n",
    "    'Subject': ['Math', 'Science', 'Math', 'English', 'Science'],\n",
    "    'Grade': [85, 90, 75, 88, 92]\n",
    "}\n",
    "df_student_grades = pd.DataFrame(student_grades_data)\n",
    "sorted_student_grades = df_student_grades.sort_values(by=['Subject', 'Grade'])\n",
    "sorted_student_grades "
   ]
  },
  {
   "cell_type": "code",
   "execution_count": 39,
   "id": "b7eed3e1-de8f-4d4f-93f5-a506717461cc",
   "metadata": {},
   "outputs": [
    {
     "data": {
      "text/html": [
       "<div>\n",
       "<style scoped>\n",
       "    .dataframe tbody tr th:only-of-type {\n",
       "        vertical-align: middle;\n",
       "    }\n",
       "\n",
       "    .dataframe tbody tr th {\n",
       "        vertical-align: top;\n",
       "    }\n",
       "\n",
       "    .dataframe thead th {\n",
       "        text-align: right;\n",
       "    }\n",
       "</style>\n",
       "<table border=\"1\" class=\"dataframe\">\n",
       "  <thead>\n",
       "    <tr style=\"text-align: right;\">\n",
       "      <th></th>\n",
       "      <th>Student</th>\n",
       "      <th>Subject</th>\n",
       "      <th>Grade</th>\n",
       "    </tr>\n",
       "  </thead>\n",
       "  <tbody>\n",
       "    <tr>\n",
       "      <th>0</th>\n",
       "      <td>Mia</td>\n",
       "      <td>English</td>\n",
       "      <td>88</td>\n",
       "    </tr>\n",
       "    <tr>\n",
       "      <th>1</th>\n",
       "      <td>Alex</td>\n",
       "      <td>Math</td>\n",
       "      <td>75</td>\n",
       "    </tr>\n",
       "    <tr>\n",
       "      <th>2</th>\n",
       "      <td>John</td>\n",
       "      <td>Math</td>\n",
       "      <td>85</td>\n",
       "    </tr>\n",
       "    <tr>\n",
       "      <th>3</th>\n",
       "      <td>Emily</td>\n",
       "      <td>Science</td>\n",
       "      <td>90</td>\n",
       "    </tr>\n",
       "    <tr>\n",
       "      <th>4</th>\n",
       "      <td>Liam</td>\n",
       "      <td>Science</td>\n",
       "      <td>92</td>\n",
       "    </tr>\n",
       "  </tbody>\n",
       "</table>\n",
       "</div>"
      ],
      "text/plain": [
       "  Student  Subject  Grade\n",
       "0     Mia  English     88\n",
       "1    Alex     Math     75\n",
       "2    John     Math     85\n",
       "3   Emily  Science     90\n",
       "4    Liam  Science     92"
      ]
     },
     "execution_count": 39,
     "metadata": {},
     "output_type": "execute_result"
    }
   ],
   "source": [
    "#QUE-7\n",
    "reset_sorted_grades = sorted_student_grades.reset_index(drop=True)\n",
    "reset_sorted_grades"
   ]
  },
  {
   "cell_type": "code",
   "execution_count": 41,
   "id": "f87001d0-58da-47d8-baf9-381dd155ca60",
   "metadata": {},
   "outputs": [
    {
     "data": {
      "text/html": [
       "<div>\n",
       "<style scoped>\n",
       "    .dataframe tbody tr th:only-of-type {\n",
       "        vertical-align: middle;\n",
       "    }\n",
       "\n",
       "    .dataframe tbody tr th {\n",
       "        vertical-align: top;\n",
       "    }\n",
       "\n",
       "    .dataframe thead th {\n",
       "        text-align: right;\n",
       "    }\n",
       "</style>\n",
       "<table border=\"1\" class=\"dataframe\">\n",
       "  <thead>\n",
       "    <tr style=\"text-align: right;\">\n",
       "      <th></th>\n",
       "      <th>Temperature</th>\n",
       "      <th>Humidity</th>\n",
       "    </tr>\n",
       "    <tr>\n",
       "      <th>Date</th>\n",
       "      <th></th>\n",
       "      <th></th>\n",
       "    </tr>\n",
       "  </thead>\n",
       "  <tbody>\n",
       "    <tr>\n",
       "      <th>2023-01-01</th>\n",
       "      <td>23</td>\n",
       "      <td>88</td>\n",
       "    </tr>\n",
       "    <tr>\n",
       "      <th>2023-01-02</th>\n",
       "      <td>24</td>\n",
       "      <td>85</td>\n",
       "    </tr>\n",
       "    <tr>\n",
       "      <th>2023-01-03</th>\n",
       "      <td>22</td>\n",
       "      <td>90</td>\n",
       "    </tr>\n",
       "  </tbody>\n",
       "</table>\n",
       "</div>"
      ],
      "text/plain": [
       "            Temperature  Humidity\n",
       "Date                             \n",
       "2023-01-01           23        88\n",
       "2023-01-02           24        85\n",
       "2023-01-03           22        90"
      ]
     },
     "execution_count": 41,
     "metadata": {},
     "output_type": "execute_result"
    }
   ],
   "source": [
    "#QUE-8\n",
    "weather_data = {\n",
    "    'Date': ['2023-01-01', '2023-01-02', '2023-01-03'],\n",
    "    'Temperature': [23, 24, 22],\n",
    "    'Humidity': [88, 85, 90]\n",
    "}\n",
    "df_weather = pd.DataFrame(weather_data)\n",
    "df_weather['Date'] = pd.to_datetime(df_weather['Date'])\n",
    "weather_indexed = df_weather.set_index('Date')\n",
    "weather_indexed "
   ]
  },
  {
   "cell_type": "code",
   "execution_count": 45,
   "id": "324ecaf6-62b7-403d-9780-b9ead50fe033",
   "metadata": {},
   "outputs": [
    {
     "data": {
      "text/html": [
       "<div>\n",
       "<style scoped>\n",
       "    .dataframe tbody tr th:only-of-type {\n",
       "        vertical-align: middle;\n",
       "    }\n",
       "\n",
       "    .dataframe tbody tr th {\n",
       "        vertical-align: top;\n",
       "    }\n",
       "\n",
       "    .dataframe thead th {\n",
       "        text-align: right;\n",
       "    }\n",
       "</style>\n",
       "<table border=\"1\" class=\"dataframe\">\n",
       "  <thead>\n",
       "    <tr style=\"text-align: right;\">\n",
       "      <th></th>\n",
       "      <th>Category A_Product X</th>\n",
       "      <th>Category A_Product Y</th>\n",
       "      <th>Category B_Product Z</th>\n",
       "    </tr>\n",
       "  </thead>\n",
       "  <tbody>\n",
       "    <tr>\n",
       "      <th>Q1</th>\n",
       "      <td>100</td>\n",
       "      <td>150</td>\n",
       "      <td>400</td>\n",
       "    </tr>\n",
       "    <tr>\n",
       "      <th>Q2</th>\n",
       "      <td>200</td>\n",
       "      <td>250</td>\n",
       "      <td>500</td>\n",
       "    </tr>\n",
       "    <tr>\n",
       "      <th>Q3</th>\n",
       "      <td>300</td>\n",
       "      <td>350</td>\n",
       "      <td>600</td>\n",
       "    </tr>\n",
       "  </tbody>\n",
       "</table>\n",
       "</div>"
      ],
      "text/plain": [
       "    Category A_Product X  Category A_Product Y  Category B_Product Z\n",
       "Q1                   100                   150                   400\n",
       "Q2                   200                   250                   500\n",
       "Q3                   300                   350                   600"
      ]
     },
     "execution_count": 45,
     "metadata": {},
     "output_type": "execute_result"
    }
   ],
   "source": [
    "#QUE-9\n",
    "product_sales_data = {\n",
    "    ('Category A', 'Product X'): [100, 200, 300],\n",
    "    ('Category A', 'Product Y'): [150, 250, 350],\n",
    "    ('Category B', 'Product Z'): [400, 500, 600]\n",
    "}\n",
    "df_product_sales = pd.DataFrame(product_sales_data, index=['Q1', 'Q2', 'Q3'])\n",
    "flattened_product_sales = df_product_sales.copy()\n",
    "flattened_product_sales.columns = ['_'.join(col) for col in flattened_product_sales.columns]\n",
    "flattened_product_sales"
   ]
  },
  {
   "cell_type": "code",
   "execution_count": 47,
   "id": "6df951e3-7141-4815-9aac-e05bd89e5743",
   "metadata": {},
   "outputs": [
    {
     "data": {
      "text/html": [
       "<div>\n",
       "<style scoped>\n",
       "    .dataframe tbody tr th:only-of-type {\n",
       "        vertical-align: middle;\n",
       "    }\n",
       "\n",
       "    .dataframe tbody tr th {\n",
       "        vertical-align: top;\n",
       "    }\n",
       "\n",
       "    .dataframe thead th {\n",
       "        text-align: right;\n",
       "    }\n",
       "</style>\n",
       "<table border=\"1\" class=\"dataframe\">\n",
       "  <thead>\n",
       "    <tr style=\"text-align: right;\">\n",
       "      <th></th>\n",
       "      <th>Sales</th>\n",
       "    </tr>\n",
       "    <tr>\n",
       "      <th>Category</th>\n",
       "      <th></th>\n",
       "    </tr>\n",
       "  </thead>\n",
       "  <tbody>\n",
       "    <tr>\n",
       "      <th>Electronics</th>\n",
       "      <td>600.0</td>\n",
       "    </tr>\n",
       "    <tr>\n",
       "      <th>Furniture</th>\n",
       "      <td>350.0</td>\n",
       "    </tr>\n",
       "  </tbody>\n",
       "</table>\n",
       "</div>"
      ],
      "text/plain": [
       "             Sales\n",
       "Category          \n",
       "Electronics  600.0\n",
       "Furniture    350.0"
      ]
     },
     "execution_count": 47,
     "metadata": {},
     "output_type": "execute_result"
    }
   ],
   "source": [
    "#QUE-10\n",
    "product_data = {\n",
    "    'Category': ['Electronics', 'Electronics', 'Furniture', 'Furniture'],\n",
    "    'Product': ['TV', 'Laptop', 'Chair', 'Table'],\n",
    "    'Sales': [500, 700, 300, 400]\n",
    "}\n",
    "df_products = pd.DataFrame(product_data).set_index(['Category', 'Product'])\n",
    "\n",
    "# Averaging the levels in the Sales column (by Category)\n",
    "average_sales_by_category = df_products.groupby(level='Category').mean()\n",
    "average_sales_by_category"
   ]
  },
  {
   "cell_type": "code",
   "execution_count": null,
   "id": "b1b351cf-f32f-43c8-aa5b-1f4efc9af4e6",
   "metadata": {},
   "outputs": [],
   "source": []
  }
 ],
 "metadata": {
  "kernelspec": {
   "display_name": "Python 3 (ipykernel)",
   "language": "python",
   "name": "python3"
  },
  "language_info": {
   "codemirror_mode": {
    "name": "ipython",
    "version": 3
   },
   "file_extension": ".py",
   "mimetype": "text/x-python",
   "name": "python",
   "nbconvert_exporter": "python",
   "pygments_lexer": "ipython3",
   "version": "3.12.4"
  }
 },
 "nbformat": 4,
 "nbformat_minor": 5
}
