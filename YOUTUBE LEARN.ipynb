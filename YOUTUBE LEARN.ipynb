{
 "cells": [
  {
   "cell_type": "code",
   "execution_count": 1,
   "id": "b556e666",
   "metadata": {},
   "outputs": [
    {
     "name": "stdout",
     "output_type": "stream",
     "text": [
      "a\n",
      "b\n",
      "this is somthing special!\n",
      "h\n",
      "i\n",
      "s\n",
      "h\n",
      "e\n",
      "k\n"
     ]
    }
   ],
   "source": [
    "\n",
    "name=\"abhishek\"\n",
    "for i in name:\n",
    "    print(i)\n",
    "    if(i==\"b\"):\n",
    "        print(\"this is somthing special!\")"
   ]
  },
  {
   "cell_type": "code",
   "execution_count": 7,
   "id": "bd74d8b6",
   "metadata": {
    "scrolled": true
   },
   "outputs": [
    {
     "name": "stdout",
     "output_type": "stream",
     "text": [
      "red\n",
      "r\n",
      "e\n",
      "d\n",
      "green\n",
      "g\n",
      "r\n",
      "e\n",
      "e\n",
      "n\n",
      "blue\n",
      "b\n",
      "l\n",
      "u\n",
      "e\n",
      "yellow\n",
      "y\n",
      "e\n",
      "l\n",
      "l\n",
      "o\n",
      "w\n"
     ]
    }
   ],
   "source": [
    "colors=[\"red\",\"green\",\"blue\",\"yellow\"]\n",
    "for i in colors:\n",
    "    print(i)\n",
    "    for j in i:\n",
    "        print(j)"
   ]
  },
  {
   "cell_type": "code",
   "execution_count": 3,
   "id": "d3ed7bf0",
   "metadata": {},
   "outputs": [],
   "source": [
    "#range(5)\n",
    "#start=0\n",
    "#condition<5\n",
    "#increment_1\n",
    "#0,1,2,3,4\n",
    "\n",
    "#range(1,6)\n",
    "#start=1\n",
    "#condition<6\n",
    "#increment_1\n",
    "#1,2,3,4,5 \n",
    "\n",
    "#range(1,6,2)\n",
    "#start=1\n",
    "#condition<6\n",
    "#increment_2\n",
    "#1,3,5\n",
    "\n"
   ]
  },
  {
   "cell_type": "code",
   "execution_count": 4,
   "id": "8c3b97ca",
   "metadata": {},
   "outputs": [
    {
     "name": "stdout",
     "output_type": "stream",
     "text": [
      "0\n",
      "1\n",
      "2\n",
      "3\n",
      "4\n"
     ]
    }
   ],
   "source": [
    "for k in range(5):\n",
    "    print(k)"
   ]
  },
  {
   "cell_type": "code",
   "execution_count": 5,
   "id": "10312e92",
   "metadata": {},
   "outputs": [
    {
     "name": "stdout",
     "output_type": "stream",
     "text": [
      "1\n",
      "2\n",
      "3\n",
      "4\n",
      "5\n"
     ]
    }
   ],
   "source": [
    "for k in range(1,6):\n",
    "    print(k)"
   ]
  },
  {
   "cell_type": "code",
   "execution_count": 6,
   "id": "0f8fa9c8",
   "metadata": {},
   "outputs": [
    {
     "name": "stdout",
     "output_type": "stream",
     "text": [
      "1\n",
      "3\n",
      "5\n"
     ]
    }
   ],
   "source": [
    "for k in range(1,6,2):\n",
    "    print(k)"
   ]
  },
  {
   "cell_type": "code",
   "execution_count": 7,
   "id": "3906307b",
   "metadata": {},
   "outputs": [
    {
     "name": "stdout",
     "output_type": "stream",
     "text": [
      "2* 1 = 2\n",
      "2* 2 = 4\n",
      "2* 3 = 6\n",
      "2* 4 = 8\n",
      "2* 5 = 10\n",
      "2* 6 = 12\n",
      "2* 7 = 14\n",
      "2* 8 = 16\n",
      "2* 9 = 18\n",
      "2* 10 = 20\n"
     ]
    }
   ],
   "source": [
    "for k in range(1,11):\n",
    "    print(\"2*\",k,\"=\",k*2)"
   ]
  },
  {
   "cell_type": "code",
   "execution_count": 9,
   "id": "2ee94077",
   "metadata": {},
   "outputs": [
    {
     "name": "stdout",
     "output_type": "stream",
     "text": [
      "1\n",
      "2\n",
      "3\n",
      "4\n",
      "5\n"
     ]
    }
   ],
   "source": [
    "for k in range(5):\n",
    "    print(k+1)"
   ]
  },
  {
   "cell_type": "code",
   "execution_count": 9,
   "id": "256183e0",
   "metadata": {},
   "outputs": [
    {
     "name": "stdout",
     "output_type": "stream",
     "text": [
      "1\n",
      "2\n",
      "3\n",
      "4\n",
      "5\n",
      "6\n",
      "7\n",
      "8\n"
     ]
    }
   ],
   "source": [
    "for k in range(1,9):\n",
    "    print(k)"
   ]
  },
  {
   "cell_type": "code",
   "execution_count": 10,
   "id": "2ae7a4a0",
   "metadata": {},
   "outputs": [
    {
     "name": "stdout",
     "output_type": "stream",
     "text": [
      "2\n",
      "3\n",
      "4\n",
      "5\n",
      "6\n",
      "7\n",
      "8\n",
      "9\n"
     ]
    }
   ],
   "source": [
    "for k in range(1,9):\n",
    "    print(k+1)"
   ]
  },
  {
   "cell_type": "code",
   "execution_count": 3,
   "id": "bf38be7e",
   "metadata": {},
   "outputs": [
    {
     "name": "stdout",
     "output_type": "stream",
     "text": [
      "Enter yoour age18\n",
      "your age is: 18\n",
      "You can drive!\n"
     ]
    }
   ],
   "source": [
    "a=int(input(\"Enter yoour age\"))\n",
    "print(\"your age is:\",a)\n",
    "\n",
    "\n",
    "\n",
    "if(a<18):\n",
    "    print(\"You can drive!\")\n",
    "else:\n",
    "    print(\"you can not drive!\")"
   ]
  },
  {
   "cell_type": "code",
   "execution_count": 5,
   "id": "bb763278",
   "metadata": {},
   "outputs": [
    {
     "name": "stdout",
     "output_type": "stream",
     "text": [
      "enter the number0\n",
      "number is zero\n"
     ]
    }
   ],
   "source": [
    "num=int(input(\"enter the number\"))\n",
    "if(num<0):\n",
    "    print(\"number is negative\")\n",
    "elif(num>0):\n",
    "    if(num<=10):\n",
    "        print(\"number is between 1-10\")\n",
    "    elif(num>10 and num<=20):\n",
    "        print(\"number is between 11-20\")\n",
    "    else:\n",
    "        print(\"number is greater than 20\")\n",
    "else:\n",
    "    print(\"number is zero\")"
   ]
  },
  {
   "cell_type": "code",
   "execution_count": 10,
   "id": "ef477513",
   "metadata": {},
   "outputs": [
    {
     "name": "stdout",
     "output_type": "stream",
     "text": [
      "10\n",
      "9\n",
      "8\n",
      "7\n",
      "6\n",
      "5\n",
      "4\n",
      "3\n",
      "2\n",
      "1\n",
      "\n",
      "10\n",
      "8\n",
      "6\n",
      "4\n",
      "2\n",
      "0\n"
     ]
    }
   ],
   "source": [
    "# range(10,0,-1)\n",
    "for k in range (10,0,-1):\n",
    "    print(k)\n",
    "print()\n",
    "for t in range(10,-1,-2):\n",
    "    print(t)"
   ]
  },
  {
   "cell_type": "code",
   "execution_count": null,
   "id": "06461b91",
   "metadata": {},
   "outputs": [],
   "source": [
    "#start\n",
    "#condition\n",
    "#increment/decrement\n",
    "\n",
    "i=1\n",
    "while i<=10:\n",
    "    print(\"how are you\")\n",
    "    i=i+1"
   ]
  },
  {
   "cell_type": "code",
   "execution_count": null,
   "id": "c9224863",
   "metadata": {},
   "outputs": [],
   "source": [
    "i=10\n",
    "while i>=1:\n",
    "    print(i,\"hello friends\")\n",
    "    i=i-1"
   ]
  },
  {
   "cell_type": "code",
   "execution_count": null,
   "id": "76d1dc07",
   "metadata": {},
   "outputs": [],
   "source": [
    "w=\"welcome to wscubetech\"\n",
    "print(w[6])\n",
    "print(w[-13])\n",
    "print(w[8])"
   ]
  },
  {
   "cell_type": "code",
   "execution_count": null,
   "id": "dd0baecb",
   "metadata": {},
   "outputs": [],
   "source": [
    "w=\"welcome ti wscubetech\"\n",
    "print(w[0:7])\n",
    "print(w[0::2])\n",
    "print(w[-1:-10:-2])\n",
    "print(w[-1::-2])\n",
    "print(w[-1::-1])#reverse"
   ]
  },
  {
   "cell_type": "code",
   "execution_count": 6,
   "id": "fe6ae081",
   "metadata": {},
   "outputs": [
    {
     "name": "stdout",
     "output_type": "stream",
     "text": [
      "21\n",
      "w\n",
      "e\n",
      "l\n",
      "c\n",
      "o\n",
      "m\n",
      "e\n",
      " \n",
      "t\n",
      "i\n",
      " \n",
      "w\n",
      "s\n",
      "c\n",
      "u\n",
      "b\n",
      "e\n",
      "t\n",
      "e\n",
      "c\n",
      "h\n"
     ]
    }
   ],
   "source": [
    "w=\"welcome ti wscubetech\"\n",
    "t=len(w)\n",
    "print(t)\n",
    "for a in range(t):\n",
    "    print(w[a])"
   ]
  },
  {
   "cell_type": "code",
   "execution_count": 8,
   "id": "ceb780d8",
   "metadata": {},
   "outputs": [
    {
     "name": "stdout",
     "output_type": "stream",
     "text": [
      "h\n",
      "c\n",
      "e\n",
      "t\n",
      "e\n",
      "b\n",
      "u\n",
      "c\n",
      "s\n",
      "w\n",
      " \n",
      "i\n",
      "t\n",
      " \n",
      "e\n",
      "m\n",
      "o\n",
      "c\n",
      "l\n",
      "e\n",
      "w\n"
     ]
    }
   ],
   "source": [
    "w=\"welcome ti wscubetech\"\n",
    "t=len(w)\n",
    "for a in range(t-1,-1,-1):\n",
    "    print(w[a])"
   ]
  },
  {
   "cell_type": "code",
   "execution_count": 7,
   "id": "2c0285fa",
   "metadata": {},
   "outputs": [
    {
     "name": "stdout",
     "output_type": "stream",
     "text": [
      "welcome to wscubetech\n",
      "WELCOME TO WSCUBETECH\n",
      "Welcome To Wscubetech\n",
      "Welcome to wscubetech\n"
     ]
    }
   ],
   "source": [
    "w=\"welcome to wscubetech\"\n",
    "n=w.lower()\n",
    "print(n)\n",
    "\n",
    "u=w.upper()\n",
    "print(u)\n",
    "\n",
    "t=w.title()\n",
    "print(t)\n",
    "\n",
    "r=w.capitalize()\n",
    "print(r)"
   ]
  },
  {
   "cell_type": "code",
   "execution_count": 9,
   "id": "19ff494f",
   "metadata": {},
   "outputs": [
    {
     "name": "stdout",
     "output_type": "stream",
     "text": [
      "1\n"
     ]
    }
   ],
   "source": [
    "w=\"welcome\"\n",
    "print(w.find('e'))"
   ]
  },
  {
   "cell_type": "code",
   "execution_count": 10,
   "id": "c061d4e5",
   "metadata": {},
   "outputs": [
    {
     "name": "stdout",
     "output_type": "stream",
     "text": [
      "6\n"
     ]
    }
   ],
   "source": [
    "w=\"welcome\"\n",
    "print(w.find('e',2))"
   ]
  },
  {
   "cell_type": "code",
   "execution_count": null,
   "id": "82c472a2",
   "metadata": {},
   "outputs": [],
   "source": [
    "w=\"welcome\"\n",
    "print(w.index('c',3))"
   ]
  },
  {
   "cell_type": "code",
   "execution_count": null,
   "id": "4961c823",
   "metadata": {},
   "outputs": [],
   "source": [
    "w=\"welcome\"\n",
    "print(w.isalpha())\n",
    "\n",
    "print(w.isdigit())"
   ]
  },
  {
   "cell_type": "code",
   "execution_count": null,
   "id": "b10acc90",
   "metadata": {},
   "outputs": [],
   "source": [
    "w=\"123\"\n",
    "print(w.isdigit())\n",
    "print(w.isalpha())"
   ]
  },
  {
   "cell_type": "code",
   "execution_count": null,
   "id": "9f787a90",
   "metadata": {},
   "outputs": [],
   "source": [
    "w=\"welcome123\" \n",
    "print(w.isdigit())\n",
    "print(w.isalpha())\n",
    "print(w.isalnum())"
   ]
  },
  {
   "cell_type": "code",
   "execution_count": null,
   "id": "5579cd3a",
   "metadata": {},
   "outputs": [],
   "source": [
    "#convert integer 65 to ASCII charector('a')\n",
    "y=chr(65)\n",
    "print(type(y),y)"
   ]
  },
  {
   "cell_type": "code",
   "execution_count": null,
   "id": "61777051",
   "metadata": {},
   "outputs": [],
   "source": [
    "#convert ASCII unicord charactor'a' to 65\n",
    "y=ord('A')\n",
    "print(type(y),y)\n"
   ]
  },
  {
   "cell_type": "code",
   "execution_count": null,
   "id": "061b8109",
   "metadata": {},
   "outputs": [],
   "source": [
    "txt=\"welcome to {fname}{lname}\".format(fname=\"wscube\",lname=\"tech\")#named indexes\n",
    "print(txt)"
   ]
  },
  {
   "cell_type": "code",
   "execution_count": null,
   "id": "2f702444",
   "metadata": {},
   "outputs": [],
   "source": [
    "#numberd index\n",
    "txt=\"welcome to {0}{1}\".format(\"wscube\",\"tech\")\n",
    "print(txt)"
   ]
  },
  {
   "cell_type": "code",
   "execution_count": null,
   "id": "c0f8e5d7",
   "metadata": {},
   "outputs": [],
   "source": [
    "#empty place holdar\n",
    "txt=\"welcome to {} {}\".format(\"wscube\",\"tech\")\n",
    "print(txt)"
   ]
  },
  {
   "cell_type": "code",
   "execution_count": 12,
   "id": "429156d8",
   "metadata": {},
   "outputs": [
    {
     "name": "stdout",
     "output_type": "stream",
     "text": [
      "enter a number0\n",
      "num is even\n"
     ]
    }
   ],
   "source": [
    "#even/odd\n",
    "num=int(input(\"enter a number\"))\n",
    "if num%2==0:\n",
    "    print(\"num is even\")\n",
    "else:\n",
    "    print(\"num is odd\")"
   ]
  },
  {
   "cell_type": "markdown",
   "id": "c466651c",
   "metadata": {},
   "source": [
    "radius=float(input(\"enter a radius\"))\n",
    "if radius>0:\n",
    "    area=3.14*radius*radius\n",
    "    print(area)\n",
    "else:\n",
    "    print(\"area can not be difined\")\n",
    "\n",
    "\n",
    "    "
   ]
  },
  {
   "cell_type": "code",
   "execution_count": 13,
   "id": "b5ee20d1",
   "metadata": {},
   "outputs": [
    {
     "name": "stdout",
     "output_type": "stream",
     "text": [
      "enter 1st integer2\n",
      "enter 2nd integer7\n",
      "enter 3rd integer9\n",
      "1\n"
     ]
    }
   ],
   "source": [
    "test1=int(input(\"enter 1st integer\"))\n",
    "test2=int(input(\"enter 2nd integer\"))\n",
    "test3=int(input(\"enter 3rd integer\"))\n",
    "if test1!=test2!=test3:\n",
    "    print(\"1\")\n",
    "else:\n",
    "    print(\"0\")"
   ]
  },
  {
   "cell_type": "code",
   "execution_count": 16,
   "id": "2aa876fc",
   "metadata": {},
   "outputs": [
    {
     "name": "stdout",
     "output_type": "stream",
     "text": [
      "enter 1st integer2\n",
      "enter 2nd integer3\n",
      "0\n"
     ]
    }
   ],
   "source": [
    "m=int(input(\"enter 1st integer\"))\n",
    "n=int(input(\"enter 2nd integer\"))\n",
    "if m%n==0:\n",
    "    print(m/n)\n",
    "else:\n",
    "    print(0)"
   ]
  },
  {
   "cell_type": "code",
   "execution_count": 17,
   "id": "afb09cc6",
   "metadata": {},
   "outputs": [
    {
     "name": "stdout",
     "output_type": "stream",
     "text": [
      "enter 1st integer2\n",
      "enter 2nd integer3\n",
      "enter 3rd integer4\n",
      "0\n"
     ]
    }
   ],
   "source": [
    "#pythagoraen problem\n",
    "a=int(input(\"enter 1st integer\"))\n",
    "b=int(input(\"enter 2nd integer\"))\n",
    "c=int(input(\"enter 3rd integer\"))\n",
    "if a*a+b*b==c*c or a*a==b*b+c*c or b*b==a*a+c*c:\n",
    "    print(\"1\")\n",
    "\n",
    "else:\n",
    "    print(\"0\")\n",
    "    "
   ]
  },
  {
   "cell_type": "code",
   "execution_count": 18,
   "id": "dd92a4f4",
   "metadata": {},
   "outputs": [],
   "source": [
    "#looping/iteration statemment\n",
    "\n",
    "# -single or multiple statements are execute multiple times.\n",
    "#looping statement:-\n",
    "\n",
    "#1.while loop\n",
    "#2.for loop\n",
    "#3.iterator\n",
    "\n",
    "#loop---(1)definite loop:-programmer known the no of loops.----------------use for loop.\n",
    "        #(2)indefinite loop :- programmer dont know the no of loops.-------use while loop."
   ]
  },
  {
   "cell_type": "code",
   "execution_count": null,
   "id": "8b6ecd47",
   "metadata": {},
   "outputs": [],
   "source": [
    "#while loop\n",
    "#print hello world as user want.\n",
    "\n",
    "n=int(input(\"enter no. of times\"))\n",
    "i=1\n",
    "while i<=n:\n",
    "    print(\"hello world\")\n",
    "    i=i+1\n",
    "        "
   ]
  },
  {
   "cell_type": "code",
   "execution_count": 19,
   "id": "0b68a37a",
   "metadata": {},
   "outputs": [
    {
     "name": "stdout",
     "output_type": "stream",
     "text": [
      "enter no. of times10\n",
      "thanking you\n"
     ]
    }
   ],
   "source": [
    "#pass:does nothing at all:it s an empty statement placeholder.   \n",
    "n=int(input(\"enter no. of times\"))\n",
    "i=1\n",
    "while i<=n:\n",
    "    pass\n",
    "    i=i+1\n",
    "print(\"thanking you\")\n",
    "    \n",
    "        "
   ]
  },
  {
   "cell_type": "code",
   "execution_count": 20,
   "id": "5d3b08c0",
   "metadata": {},
   "outputs": [
    {
     "name": "stdout",
     "output_type": "stream",
     "text": [
      "1\n",
      "2\n",
      "3\n",
      "4\n",
      "5\n"
     ]
    }
   ],
   "source": [
    "#break\n",
    "\n",
    "i=1\n",
    "while i<=10:\n",
    "    print(i)\n",
    "    if i==5:\n",
    "        break\n",
    "    i=i+1"
   ]
  },
  {
   "cell_type": "code",
   "execution_count": 1,
   "id": "209be28a",
   "metadata": {},
   "outputs": [
    {
     "name": "stdout",
     "output_type": "stream",
     "text": [
      "enter a number11\n",
      "number is prime\n"
     ]
    }
   ],
   "source": [
    "#prime no\n",
    "\n",
    "n=int(input(\"enter a number\"))\n",
    "flag=0\n",
    "i=2\n",
    "while i<n:\n",
    "    if n%i==0:\n",
    "        print(\"not a prime number\")\n",
    "    else:\n",
    "        print(\"number is prime\")\n",
    "        break\n",
    "        "
   ]
  },
  {
   "cell_type": "code",
   "execution_count": null,
   "id": "e23208ad",
   "metadata": {},
   "outputs": [],
   "source": [
    "#while & else\n",
    "\n",
    "i=1\n",
    "while(i<=10):\n",
    "    print(i)\n",
    "    if i==3:\n",
    "        break\n",
    "    i=i+1    \n",
    "else:\n",
    "    print(\"this is else clause\")\n",
    "print(\"thanking you\")    "
   ]
  },
  {
   "cell_type": "code",
   "execution_count": 1,
   "id": "64f17226",
   "metadata": {},
   "outputs": [
    {
     "name": "stdout",
     "output_type": "stream",
     "text": [
      "s*i*m*p*l*i*l*e*a*r*n*"
     ]
    }
   ],
   "source": [
    "#forloop\n",
    "\n",
    "\n",
    "s=\"simplilearn\"\n",
    "for i in s:\n",
    "    print(i,end=\"*\")"
   ]
  },
  {
   "cell_type": "code",
   "execution_count": 5,
   "id": "f5e32c51",
   "metadata": {},
   "outputs": [
    {
     "name": "stdout",
     "output_type": "stream",
     "text": [
      "java\n",
      "python\n",
      "ruby\n",
      "html\n"
     ]
    }
   ],
   "source": [
    "#use for loop in a list\n",
    "programming=[\"java\",\"python\",\"ruby\",\"html\"]\n",
    "for item in programming:\n",
    "    print(item)"
   ]
  },
  {
   "cell_type": "code",
   "execution_count": 2,
   "id": "51df3eee",
   "metadata": {},
   "outputs": [
    {
     "name": "stdout",
     "output_type": "stream",
     "text": [
      "sum= 150\n",
      "average= 30.0\n"
     ]
    }
   ],
   "source": [
    "#find the avg of a list of numbers\n",
    "\n",
    "list_num=[20,25,10,50,45]\n",
    "sum=0\n",
    "for i in list_num:\n",
    "    sum=sum+i\n",
    "print(\"sum=\",sum)\n",
    "print(\"average=\",sum/len(list_num))\n",
    "    "
   ]
  },
  {
   "cell_type": "code",
   "execution_count": 5,
   "id": "f91e3969",
   "metadata": {},
   "outputs": [
    {
     "name": "stdout",
     "output_type": "stream",
     "text": [
      "255\n"
     ]
    }
   ],
   "source": [
    "num=(30,45,60,50,70)\n",
    "sum=0\n",
    "for i in num:\n",
    "    sum=sum+i\n",
    "print(sum)"
   ]
  },
  {
   "cell_type": "code",
   "execution_count": 15,
   "id": "7fb226be",
   "metadata": {},
   "outputs": [
    {
     "name": "stdout",
     "output_type": "stream",
     "text": [
      "fibomacchi series: 0 1\n",
      "1 2 3 5 8 13 21 34 "
     ]
    }
   ],
   "source": [
    "num=10\n",
    "n1,n2=0,1\n",
    "print(\"fibomacchi series:\",n1,n2)\n",
    "for i in range (2,num):\n",
    "    n3=n1+n2\n",
    "    n1=n2\n",
    "    n2=n3\n",
    "    print(n3,end=\" \")\n"
   ]
  },
  {
   "cell_type": "code",
   "execution_count": 10,
   "id": "5ec84018",
   "metadata": {},
   "outputs": [],
   "source": [
    "a=1\n",
    "b=2\n"
   ]
  },
  {
   "cell_type": "code",
   "execution_count": 16,
   "id": "b9d5ccc0",
   "metadata": {},
   "outputs": [
    {
     "name": "stdout",
     "output_type": "stream",
     "text": [
      "2 1\n"
     ]
    }
   ],
   "source": [
    "#teporary variable\n",
    "c=a\n",
    "a=b\n",
    "b=c\n",
    "print(a,b)\n"
   ]
  },
  {
   "cell_type": "code",
   "execution_count": 19,
   "id": "7c95db8c",
   "metadata": {},
   "outputs": [
    {
     "name": "stdout",
     "output_type": "stream",
     "text": [
      "1 2\n"
     ]
    }
   ],
   "source": [
    "#swap variable without temporary variable\n",
    "a,b=b,a\n",
    "print(a,b)"
   ]
  },
  {
   "cell_type": "code",
   "execution_count": 23,
   "id": "9b5690db",
   "metadata": {},
   "outputs": [
    {
     "name": "stdout",
     "output_type": "stream",
     "text": [
      "1 2\n"
     ]
    }
   ],
   "source": [
    "a,b=b,a\n",
    "\n",
    "print(a,b)"
   ]
  },
  {
   "cell_type": "code",
   "execution_count": null,
   "id": "b5e3828d",
   "metadata": {},
   "outputs": [],
   "source": [
    "rows=int(input(\"enter a rows\"))\n",
    "for i in range(0,rows):\n",
    "    for j in range(i+1):\n",
    "        print(\"*\",end=\" \")\n",
    "    print(\"\\n\")    \n",
    "        \n",
    "        "
   ]
  },
  {
   "cell_type": "code",
   "execution_count": 1,
   "id": "cd72dbad",
   "metadata": {},
   "outputs": [
    {
     "name": "stdout",
     "output_type": "stream",
     "text": [
      "Enter a cash amount20\n",
      "19.5\n"
     ]
    }
   ],
   "source": [
    "cash=int(input(\"Enter a cash amount\"))\n",
    "if cash%5==0:\n",
    "    print(cash-0.5)\n",
    "else:\n",
    "    print(\"money can not debit\")\n",
    "\n"
   ]
  },
  {
   "cell_type": "code",
   "execution_count": 14,
   "id": "c6a61117",
   "metadata": {},
   "outputs": [
    {
     "name": "stdout",
     "output_type": "stream",
     "text": [
      "enter a radius2\n",
      "12.56\n"
     ]
    }
   ],
   "source": [
    "radius=float(input(\"enter a radius\"))\n",
    "if radius>0:\n",
    "    area=3.14*radius*radius\n",
    "    print(area)\n",
    "else:\n",
    "    print(\"area can not be difined\")"
   ]
  },
  {
   "cell_type": "code",
   "execution_count": 1,
   "id": "802ac713",
   "metadata": {},
   "outputs": [
    {
     "name": "stdout",
     "output_type": "stream",
     "text": [
      "10\n",
      "10\n",
      "50.0\n"
     ]
    }
   ],
   "source": [
    "h=float(input())\n",
    "b=float(input())\n",
    "area=1/2*b*h\n",
    "print(area)"
   ]
  },
  {
   "cell_type": "code",
   "execution_count": 8,
   "id": "4a3e4c5b",
   "metadata": {},
   "outputs": [
    {
     "name": "stdout",
     "output_type": "stream",
     "text": [
      "enter a year2023\n",
      "this year not a leap year\n"
     ]
    }
   ],
   "source": [
    "year=int(input(\"enter a year\"))\n",
    "\n",
    "if (year % 400==0)and(year%100==0):\n",
    "    print(year,\"is a leap year.\")\n",
    "else:\n",
    "    print(\"this is not a leap year\")"
   ]
  },
  {
   "cell_type": "code",
   "execution_count": 22,
   "id": "99d320fb",
   "metadata": {},
   "outputs": [
    {
     "name": "stdout",
     "output_type": "stream",
     "text": [
      "enter a number44\n",
      "it is not a prime number\n"
     ]
    }
   ],
   "source": [
    "num=int(input('enter a number'))\n",
    "if num==1:\n",
    "    print(\"it is a prime number\")\n",
    "if num>1:\n",
    "    for i in range(2,num):\n",
    "        if num%i==0:\n",
    "            print(\"it is not a prime number\")\n",
    "            break\n",
    "        else:\n",
    "            print(\"it is prime number\")\n",
    "            break\n",
    "            "
   ]
  },
  {
   "cell_type": "code",
   "execution_count": 16,
   "id": "7ce7a86e",
   "metadata": {},
   "outputs": [
    {
     "name": "stdout",
     "output_type": "stream",
     "text": [
      "enter lower limit here2\n",
      "enter upper limit here50\n",
      "2\n",
      "3\n",
      "5\n",
      "7\n",
      "11\n",
      "13\n",
      "17\n",
      "19\n",
      "23\n",
      "29\n",
      "31\n",
      "37\n",
      "41\n",
      "43\n",
      "47\n"
     ]
    }
   ],
   "source": [
    "lower=int(input(\"enter lower limit here\"))\n",
    "upper=int(input(\"enter upper limit here\"))\n",
    "for i in range (lower,upper+1):\n",
    "    if num>1:\n",
    "        for j in range (2,i):\n",
    "            if i%j==0:\n",
    "                break\n",
    "        else:\n",
    "            print(i)"
   ]
  },
  {
   "cell_type": "code",
   "execution_count": 1,
   "id": "686f985a",
   "metadata": {},
   "outputs": [
    {
     "name": "stdout",
     "output_type": "stream",
     "text": [
      "enter tempreture in celcius: 40\n",
      "the converted value is  104.0 F\n"
     ]
    }
   ],
   "source": [
    "celcius=int(input(\"enter tempreture in celcius: \"))\n",
    "fahrenheit=(celcius*(9/5))+32\n",
    "print(\"the converted value is \" , fahrenheit,\"F\")"
   ]
  },
  {
   "cell_type": "code",
   "execution_count": 3,
   "id": "622b43b9",
   "metadata": {},
   "outputs": [
    {
     "name": "stdout",
     "output_type": "stream",
     "text": [
      "enter a number here: 0\n",
      "factorial of 0 is 1\n",
      "the factorial of the given number is 1\n"
     ]
    }
   ],
   "source": [
    "#FACTORIAL PROBLEM USING FORLOOP\n",
    "\n",
    "num=int(input(\"enter a number here: \"))\n",
    "fac=1\n",
    "if num<0:\n",
    "    print(\"factorial of -ve value does not exist\")\n",
    "if num==0:\n",
    "    print(\"factorial of 0 is\",1)\n",
    "if num>0:\n",
    "    for i in range(1,num+1):\n",
    "        fac=fac*i\n",
    "print(\"the factorial of the given number is\",fac)        "
   ]
  },
  {
   "cell_type": "code",
   "execution_count": 4,
   "id": "e0cd5d1a",
   "metadata": {},
   "outputs": [
    {
     "name": "stdout",
     "output_type": "stream",
     "text": [
      "11 * 1 = 11\n",
      "11 * 2 = 22\n",
      "11 * 3 = 33\n",
      "11 * 4 = 44\n",
      "11 * 5 = 55\n",
      "11 * 6 = 66\n",
      "11 * 7 = 77\n",
      "11 * 8 = 88\n",
      "11 * 9 = 99\n",
      "11 * 10 = 110\n"
     ]
    }
   ],
   "source": [
    "for i in range(1,11):\n",
    "    print(\"11\",\"*\",i,\"=\",i*11)\n"
   ]
  },
  {
   "cell_type": "code",
   "execution_count": 6,
   "id": "0a6f7262",
   "metadata": {},
   "outputs": [
    {
     "name": "stdout",
     "output_type": "stream",
     "text": [
      "enter a number to obtain fibonacci sequence: 10\n",
      "0\n",
      "1\n",
      "1\n",
      "2\n",
      "3\n",
      "5\n",
      "8\n",
      "13\n",
      "21\n",
      "34\n",
      "55\n",
      "89\n"
     ]
    }
   ],
   "source": [
    "#fibonacci series\n",
    "a=0\n",
    "b=1\n",
    "num=int(input(\"enter a number to obtain fibonacci sequence: \"))\n",
    "if num==1:\n",
    "    print(a)\n",
    "else:\n",
    "    print(a)\n",
    "    print(b)\n",
    "    for i in range(1,num+1):\n",
    "        c=a+b\n",
    "        a=b\n",
    "        b=c\n",
    "        print(c)\n"
   ]
  },
  {
   "cell_type": "code",
   "execution_count": 19,
   "id": "6608f2c4",
   "metadata": {},
   "outputs": [
    {
     "name": "stdout",
     "output_type": "stream",
     "text": [
      "enter a number here: 5\n",
      "15\n"
     ]
    }
   ],
   "source": [
    "#sum of natural numbers\n",
    "\n",
    "num=int(input(\"enter a number here: \"))\n",
    "if num<0:\n",
    "    print(\"please enter a positive number\")\n",
    "else:\n",
    "    sum=0\n",
    "    while num>0:\n",
    "        sum+=num\n",
    "        num=num-1\n",
    "    print(sum)    "
   ]
  },
  {
   "cell_type": "code",
   "execution_count": 20,
   "id": "d0c6fb8b",
   "metadata": {},
   "outputs": [
    {
     "name": "stdout",
     "output_type": "stream",
     "text": [
      "13\n",
      "26\n",
      "39\n",
      "52\n",
      "65\n",
      "78\n",
      "91\n"
     ]
    }
   ],
   "source": [
    "#find numbers divisible by another number\n",
    "\n",
    "\n",
    "for i in range (1,100):\n",
    "    if i%13==0:\n",
    "        print(i)"
   ]
  },
  {
   "cell_type": "code",
   "execution_count": 24,
   "id": "3d89e822",
   "metadata": {},
   "outputs": [
    {
     "name": "stdout",
     "output_type": "stream",
     "text": [
      "enter a number12\n",
      "the factors of this number is :   1\n",
      "the factors of this number is :   2\n",
      "the factors of this number is :   3\n",
      "the factors of this number is :   4\n",
      "the factors of this number is :   6\n",
      "the factors of this number is :   12\n"
     ]
    }
   ],
   "source": [
    "#factors of number \n",
    "\n",
    "num=int(input(\"enter a number\"))\n",
    "for i in range(1,num+1):\n",
    "    if num%i==0:\n",
    "        print(\"the factors of this number is :  \",i)\n"
   ]
  },
  {
   "cell_type": "code",
   "execution_count": 32,
   "id": "47670bcc",
   "metadata": {},
   "outputs": [
    {
     "name": "stdout",
     "output_type": "stream",
     "text": [
      "enter the value 1: 20.5\n",
      "enter the value 2: 40.2\n",
      "enter the operators+\n",
      "60.7\n"
     ]
    }
   ],
   "source": [
    "#calculator\n",
    "\n",
    "num1=float(input(\"enter the value 1: \"))\n",
    "num2=float(input(\"enter the value 2: \"))\n",
    "opr=input(\"enter the operators: \")\n",
    "if opr==\"+\":\n",
    "    print(num1+num2)\n",
    "elif opr==\"-\":\n",
    "    print(num1-num2)\n",
    "elif opr==\"*\":\n",
    "    print(num1*num2)\n",
    "elif opr==\"/\":\n",
    "    print(num1/num2)\n",
    "else:\n",
    "    print(\"invalid optarors\")"
   ]
  },
  {
   "cell_type": "code",
   "execution_count": 5,
   "id": "a3aaa8c2",
   "metadata": {},
   "outputs": [
    {
     "name": "stdout",
     "output_type": "stream",
     "text": [
      "Enter number of rows: 5\n",
      "* \n",
      "\n",
      "* * \n",
      "\n",
      "* * * \n",
      "\n",
      "* * * * \n",
      "\n",
      "* * * * * \n",
      "\n"
     ]
    }
   ],
   "source": [
    "rows = int(input(\"Enter number of rows: \"))\n",
    "\n",
    "for i in range(0,rows):\n",
    "    for j in range(i+1):\n",
    "        print(\"* \", end=\"\")\n",
    "    print(\"\\n\")"
   ]
  },
  {
   "cell_type": "code",
   "execution_count": null,
   "id": "61af29c5",
   "metadata": {},
   "outputs": [],
   "source": [
    "rows = int(input(\"Enter number of rows: \"))\n",
    "\n",
    "for i in range(rows, 0,-1):\n",
    "    for j in range(0, i):\n",
    "        print(\"* \", end=\" \")\n",
    "    \n",
    "    print(\"\\n\")"
   ]
  },
  {
   "cell_type": "code",
   "execution_count": 38,
   "id": "9b3cb94c",
   "metadata": {},
   "outputs": [
    {
     "name": "stdout",
     "output_type": "stream",
     "text": [
      "Enter number of rows: 5\n",
      "        * \n",
      "      * * * \n",
      "    * * * * * \n",
      "  * * * * * * * \n",
      "* * * * * * * * * \n"
     ]
    }
   ],
   "source": [
    "rows = int(input(\"Enter number of rows: \"))\n",
    "\n",
    "k = 0\n",
    "\n",
    "for i in range(1, rows+1):\n",
    "    for space in range(1, (rows-i)+1):\n",
    "        print(end=\"  \")\n",
    "   \n",
    "    while k!=(2*i-1):\n",
    "        print(\"* \", end=\"\")\n",
    "        k += 1\n",
    "   \n",
    "    k = 0\n",
    "    print()"
   ]
  },
  {
   "cell_type": "code",
   "execution_count": 36,
   "id": "d3259ac8",
   "metadata": {},
   "outputs": [
    {
     "name": "stdout",
     "output_type": "stream",
     "text": [
      "Enter number of rows: 5\n",
      "* * * * * * * \n",
      "  * * * * * \n",
      "    * * * \n",
      "      * \n"
     ]
    }
   ],
   "source": [
    "rows = int(input(\"Enter number of rows: \"))\n",
    "\n",
    "for i in range(rows, 1, -1):\n",
    "    for space in range(0, rows-i):\n",
    "        print(\"  \", end=\"\")\n",
    "    for j in range(i, 2*i-1):\n",
    "        print(\"* \", end=\"\")\n",
    "    for j in range(1, i-1):\n",
    "        print(\"* \", end=\"\")\n",
    "    print()"
   ]
  },
  {
   "cell_type": "code",
   "execution_count": 2,
   "id": "369b8d46",
   "metadata": {},
   "outputs": [
    {
     "name": "stdout",
     "output_type": "stream",
     "text": [
      "enter a first number10\n",
      "enter a second number20\n",
      "10\n",
      "20\n"
     ]
    }
   ],
   "source": [
    "num1=int(input(\"enter a first number\"))\n",
    "num2=int(input(\"enter a second number\"))\n",
    "print(num1)\n",
    "print(num2)\n"
   ]
  },
  {
   "cell_type": "code",
   "execution_count": 3,
   "id": "a840d7b9",
   "metadata": {},
   "outputs": [
    {
     "name": "stdout",
     "output_type": "stream",
     "text": [
      "20 10\n"
     ]
    }
   ],
   "source": [
    "c=num1\n",
    "num1=num2\n",
    "num2=c\n",
    "print(num1,num2)"
   ]
  },
  {
   "cell_type": "code",
   "execution_count": 16,
   "id": "cf76e86b",
   "metadata": {},
   "outputs": [
    {
     "name": "stdout",
     "output_type": "stream",
     "text": [
      "Enter number of rows: 6\n",
      "     \n",
      "    1 \n",
      "   1 1 \n",
      "  1 2 1 \n",
      " 1 3 3 1 \n",
      "1 4 6 4 1 \n"
     ]
    }
   ],
   "source": [
    "rows = int(input(\"Enter number of rows: \"))\n",
    "coef = 1\n",
    "\n",
    "for i in range(rows):\n",
    "    for space in range(rows-i-1):\n",
    "        print(\" \",end=\"\")\n",
    "    for j in range(0,i):\n",
    "        if j==0 or i==0:\n",
    "            coef = 1   \n",
    "        else:\n",
    "            coef = coef*(i-j)//j\n",
    "        print(coef,end=\" \")\n",
    "    print()"
   ]
  },
  {
   "cell_type": "code",
   "execution_count": null,
   "id": "9affe9cf",
   "metadata": {},
   "outputs": [],
   "source": [
    "userInput = int(input(\"Enter number for testing: \"))\n",
    "\n",
    "if userInput%2==0:\n",
    "    print(\"The number is not a prime number\")\n",
    "    \n",
    "else:\n",
    "    print(\"The number is prime number\")"
   ]
  },
  {
   "cell_type": "code",
   "execution_count": 1,
   "id": "47c0a9b1",
   "metadata": {},
   "outputs": [
    {
     "name": "stdout",
     "output_type": "stream",
     "text": [
      "Enter number of rows: 5\n",
      "*  *  *  *  *  \n",
      "\n",
      "*  *  *  *  \n",
      "\n",
      "*  *  *  \n",
      "\n",
      "*  *  \n",
      "\n",
      "*  \n",
      "\n"
     ]
    }
   ],
   "source": [
    "rows = int(input(\"Enter number of rows: \"))\n",
    "\n",
    "for i in range(rows, 0,-1):\n",
    "    for j in range(0, i):\n",
    "        print(\"* \", end=\" \")\n",
    "    \n",
    "    print(\"\\n\")"
   ]
  },
  {
   "cell_type": "code",
   "execution_count": 1,
   "id": "99d1b062",
   "metadata": {},
   "outputs": [
    {
     "name": "stdout",
     "output_type": "stream",
     "text": [
      "5 in the range\n"
     ]
    }
   ],
   "source": [
    "def test_range(n):\n",
    "    if n in range(3,9):\n",
    "        print(\"%s in the range\"%str(n))\n",
    "    else:\n",
    "        print(\"the number is outside the given range.\")\n",
    "test_range(5)        11"
   ]
  },
  {
   "cell_type": "code",
   "execution_count": 3,
   "id": "6540c1d9",
   "metadata": {},
   "outputs": [
    {
     "name": "stdout",
     "output_type": "stream",
     "text": [
      "first number is greater\n",
      "4.235294117647059\n",
      "second number is greater or equal\n",
      "7.219512195121951\n"
     ]
    }
   ],
   "source": [
    "def calculategmean(a,b): \n",
    "    mean=(a*b)/(a+b)\n",
    "    print(mean)\n",
    "    \n",
    "def isgreater(a,b):\n",
    "    if(a>b):\n",
    "        print(\"first number is greater\")\n",
    "    else:\n",
    "        print(\"second number is greater or equal\")\n",
    "a=9\n",
    "b=8\n",
    "isgreater(a,b)\n",
    "#gmean1=(a*b)/(a+b)\n",
    "#print(gmean1)\n",
    "calculategmean(a,b)\n",
    "c=8\n",
    "d=74\n",
    "isgreater(c,d)\n",
    "#gmean2=(c*d)/(c+d)\n",
    "#print(gmean2)\n",
    "calculategmean(c,d)\n"
   ]
  },
  {
   "cell_type": "code",
   "execution_count": 6,
   "id": "32959d9d",
   "metadata": {},
   "outputs": [
    {
     "name": "stdout",
     "output_type": "stream",
     "text": [
      "Enter student details:\n",
      "Student Name: man\n",
      "Total Subjects: 2\n",
      "Enter subject 1 name: df\n",
      "Enter marks for df: 56\n",
      "Enter subject 2 name: fb\n",
      "Enter marks for fb: 67\n",
      "\n",
      "Student Marksheet:\n",
      "Student Name: man\n",
      "Total Marks: 123.0\n",
      "Percentage:61.50%\n",
      "Grade: C\n"
     ]
    }
   ],
   "source": [
    " #Function to calculate the total marks\n",
    "def calculate_total_marks(subject_marks):\n",
    "    return sum(subject_marks)\n",
    "\n",
    "# Function to calculate the percentage\n",
    "def calculate_percentage(total_marks, total_subjects):\n",
    "    return (total_marks / (total_subjects * 100)) * 100\n",
    "\n",
    "# Function to calculate the grade\n",
    "def calculate_grade(percentage):\n",
    "    if percentage >= 90:\n",
    "        return 'A+'\n",
    "    elif percentage >= 80:\n",
    "        return 'A'\n",
    "    elif percentage >= 70:\n",
    "        return 'B'\n",
    "    elif percentage >= 60:\n",
    "        return 'C'\n",
    "    elif percentage >= 50:\n",
    "        return 'D'\n",
    "    else:\n",
    "        return 'F'\n",
    "\n",
    "# Main program\n",
    "print(\"Enter student details:\")\n",
    "student_name = input(\"Student Name: \")\n",
    "total_subjects = int(input(\"Total Subjects: \"))\n",
    "\n",
    "subject_marks = []\n",
    "\n",
    "for i in range(total_subjects):\n",
    "    subject_name = input(f\"Enter subject {i+1} name: \")\n",
    "    marks = float(input(f\"Enter marks for {subject_name}: \"))\n",
    "    subject_marks.append(marks)\n",
    "\n",
    "total_marks = calculate_total_marks(subject_marks)\n",
    "percentage = calculate_percentage(total_marks, total_subjects)\n",
    "grade = calculate_grade(percentage)\n",
    "\n",
    "print(\"\\nStudent Marksheet:\")\n",
    "print(\"Student Name:\", student_name)\n",
    "print(\"Total Marks:\", total_marks)\n",
    "print(\"Percentage:{:.2f}%\".format(percentage))\n",
    "print(\"Grade:\",grade)\n",
    "\n"
   ]
  },
  {
   "cell_type": "code",
   "execution_count": 7,
   "id": "cc4f0d09",
   "metadata": {},
   "outputs": [
    {
     "name": "stdout",
     "output_type": "stream",
     "text": [
      "What is your name? man chaudhary\n",
      "What is your age? 34\n",
      "Where are you from? kheda\n",
      "Here are your responses:\n",
      "What is your name?: man chaudhary\n",
      "What is your age?: 34\n",
      "Where are you from?: kheda\n"
     ]
    }
   ],
   "source": [
    "# Define a list of questions\n",
    "questions = [\n",
    "    \"What is your name?\",\n",
    "    \"What is your age?\",\n",
    "    \"Where are you from?\"\n",
    "]\n",
    "\n",
    "# Create an empty list to store the user's responses\n",
    "responses = []\n",
    "\n",
    "# Iterate through the questions and collect user responses\n",
    "for question in questions:\n",
    "    response = input(question + \" \")\n",
    "    responses.append(response)\n",
    "\n",
    "# Print the user's responses\n",
    "print(\"Here are your responses:\")\n",
    "for i in range(len(questions)):\n",
    "    print(f\"{questions[i]}: {responses[i]}\")\n"
   ]
  },
  {
   "cell_type": "code",
   "execution_count": null,
   "id": "6604de21",
   "metadata": {},
   "outputs": [],
   "source": []
  }
 ],
 "metadata": {
  "kernelspec": {
   "display_name": "Python 3 (ipykernel)",
   "language": "python",
   "name": "python3"
  },
  "language_info": {
   "codemirror_mode": {
    "name": "ipython",
    "version": 3
   },
   "file_extension": ".py",
   "mimetype": "text/x-python",
   "name": "python",
   "nbconvert_exporter": "python",
   "pygments_lexer": "ipython3",
   "version": "3.11.4"
  }
 },
 "nbformat": 4,
 "nbformat_minor": 5
}
